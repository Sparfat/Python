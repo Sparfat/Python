{
  "nbformat": 4,
  "nbformat_minor": 0,
  "metadata": {
    "colab": {
      "provenance": []
    },
    "kernelspec": {
      "name": "python3",
      "display_name": "Python 3"
    },
    "language_info": {
      "name": "python"
    }
  },
  "cells": [
    {
      "cell_type": "code",
      "execution_count": null,
      "metadata": {
        "colab": {
          "base_uri": "https://localhost:8080/"
        },
        "id": "ImOhWGfOYn2c",
        "outputId": "a72a59c8-dc29-4234-8fc9-99752fc8a27c"
      },
      "outputs": [
        {
          "output_type": "execute_result",
          "data": {
            "text/plain": [
              "2401"
            ]
          },
          "metadata": {},
          "execution_count": 1
        }
      ],
      "source": [
        "7**4"
      ]
    },
    {
      "cell_type": "code",
      "source": [
        "s = \"Hi there Sam!\""
      ],
      "metadata": {
        "id": "Xp5iXXU2YyqI"
      },
      "execution_count": null,
      "outputs": []
    },
    {
      "cell_type": "code",
      "source": [
        "my_list = [];\n",
        "for palavra in s:\n",
        "  my_list.append(palavra);\n",
        "print(my_list);"
      ],
      "metadata": {
        "colab": {
          "base_uri": "https://localhost:8080/"
        },
        "id": "lXh4TPoBY5IE",
        "outputId": "5f90a104-4b80-4c29-db78-dccd6d9eb2ca"
      },
      "execution_count": null,
      "outputs": [
        {
          "output_type": "stream",
          "name": "stdout",
          "text": [
            "['H', 'i', ' ', 't', 'h', 'e', 'r', 'e', ' ', 'S', 'a', 'm', '!']\n"
          ]
        }
      ]
    },
    {
      "cell_type": "code",
      "source": [
        "planet = \"Earth\"\n",
        "diameter = 12742"
      ],
      "metadata": {
        "id": "h0ThAIdkZq8j"
      },
      "execution_count": null,
      "outputs": []
    },
    {
      "cell_type": "code",
      "source": [
        "print(\"The diameter of {} is {} kilometers.\".format(planet, diameter));"
      ],
      "metadata": {
        "colab": {
          "base_uri": "https://localhost:8080/"
        },
        "id": "PP6bQ0N2Zszg",
        "outputId": "b3bdfa99-97b2-4b03-eafc-c77d565faa17"
      },
      "execution_count": null,
      "outputs": [
        {
          "output_type": "stream",
          "name": "stdout",
          "text": [
            "The diameter of Earth is 12742 kilometers.\n"
          ]
        }
      ]
    },
    {
      "cell_type": "code",
      "source": [
        "lst = [1,2,[3,4],[5,[100,200,['hello']],23,11],1,7]"
      ],
      "metadata": {
        "id": "8NceJyZVaLJH"
      },
      "execution_count": null,
      "outputs": []
    },
    {
      "cell_type": "code",
      "source": [
        "lst [3] [1] [2] [0]"
      ],
      "metadata": {
        "colab": {
          "base_uri": "https://localhost:8080/",
          "height": 35
        },
        "id": "pEWICui9aR46",
        "outputId": "8866bd19-8157-4da6-9625-bfcad928a4fe"
      },
      "execution_count": null,
      "outputs": [
        {
          "output_type": "execute_result",
          "data": {
            "text/plain": [
              "'hello'"
            ],
            "application/vnd.google.colaboratory.intrinsic+json": {
              "type": "string"
            }
          },
          "metadata": {},
          "execution_count": 13
        }
      ]
    },
    {
      "cell_type": "code",
      "source": [
        "d = {'k1':[1,2,3,{'tricky':['oh','man','inception',{'target':[1,2,3,'hello']}]}]}"
      ],
      "metadata": {
        "id": "NBEUC5HObB0W"
      },
      "execution_count": null,
      "outputs": []
    },
    {
      "cell_type": "code",
      "source": [
        "d ['k1'][3] ['tricky'][3] ['target'][3]"
      ],
      "metadata": {
        "colab": {
          "base_uri": "https://localhost:8080/",
          "height": 35
        },
        "id": "wzzDjgUJbGZd",
        "outputId": "946846a0-e6d9-47c7-f523-0d4968577107"
      },
      "execution_count": null,
      "outputs": [
        {
          "output_type": "execute_result",
          "data": {
            "text/plain": [
              "'hello'"
            ],
            "application/vnd.google.colaboratory.intrinsic+json": {
              "type": "string"
            }
          },
          "metadata": {},
          "execution_count": 17
        }
      ]
    },
    {
      "cell_type": "code",
      "source": [
        "my_list = []\n",
        "v = d['k1'][3]['tricky'][3] ['target'][3]\n",
        "print(v)\n",
        "\n",
        "for letra in v:\n",
        "  my_list.append(letra)\n",
        "print(my_list)"
      ],
      "metadata": {
        "colab": {
          "base_uri": "https://localhost:8080/"
        },
        "id": "Kzwo2Lb5cvEc",
        "outputId": "7ef1d319-feab-4757-82cc-84620a6ca58b"
      },
      "execution_count": null,
      "outputs": [
        {
          "output_type": "stream",
          "name": "stdout",
          "text": [
            "hello\n",
            "['h', 'e', 'l', 'l', 'o']\n"
          ]
        }
      ]
    },
    {
      "cell_type": "code",
      "source": [
        "v1 = d['k1'][3]['tricky'][1]\n",
        "print(v1)\n",
        "my_list2 = []\n",
        "\n",
        "for letra1 in v1:\n",
        "  my_list2.append(letra1)\n",
        "print(my_list2)"
      ],
      "metadata": {
        "colab": {
          "base_uri": "https://localhost:8080/"
        },
        "id": "LrqxWj7ygoID",
        "outputId": "cc8ad008-cf26-4f1f-b20d-c92b8bee1e28"
      },
      "execution_count": null,
      "outputs": [
        {
          "output_type": "stream",
          "name": "stdout",
          "text": [
            "man\n",
            "['m', 'a', 'n']\n"
          ]
        }
      ]
    },
    {
      "cell_type": "code",
      "source": [
        "listaFinal = [my_list[4],my_list[3],my_list2[1]]\n",
        "\n",
        "print(''.join(listaFinal))"
      ],
      "metadata": {
        "colab": {
          "base_uri": "https://localhost:8080/"
        },
        "id": "U-Yltkzugryb",
        "outputId": "ebeeec25-02f4-4ad5-f13d-1125a6fb1cce"
      },
      "execution_count": null,
      "outputs": [
        {
          "output_type": "stream",
          "name": "stdout",
          "text": [
            "ola\n"
          ]
        }
      ]
    },
    {
      "cell_type": "markdown",
      "source": [
        "A diferença entre tupla e lista é que em uma tupla não é possível adicionar elementos, ja em uma lista é possível."
      ],
      "metadata": {
        "id": "8LvTIJlqg26V"
      }
    },
    {
      "cell_type": "code",
      "source": [
        "def extract_domain(email):\n",
        "    domain = email.split('@')[-1]\n",
        "    return domain"
      ],
      "metadata": {
        "id": "IG9Ih5aWhK_p"
      },
      "execution_count": null,
      "outputs": []
    },
    {
      "cell_type": "code",
      "source": [
        "email = '125111350808@dominio.com'\n",
        "domain = extract_domain(email)\n",
        "print(domain)"
      ],
      "metadata": {
        "colab": {
          "base_uri": "https://localhost:8080/"
        },
        "id": "CvZGDmeJiJLz",
        "outputId": "2798ed3d-03f6-4782-9450-51c3f32c6b50"
      },
      "execution_count": null,
      "outputs": [
        {
          "output_type": "stream",
          "name": "stdout",
          "text": [
            "dominio.com\n"
          ]
        }
      ]
    },
    {
      "cell_type": "code",
      "source": [
        "s = 'The dog is there'"
      ],
      "metadata": {
        "id": "Z5d8suiMjMlT"
      },
      "execution_count": null,
      "outputs": []
    },
    {
      "cell_type": "code",
      "source": [
        "def searcher(s):\n",
        "  return 'dog' in s.lower();\n",
        "\n",
        "print(searcher(s));"
      ],
      "metadata": {
        "colab": {
          "base_uri": "https://localhost:8080/"
        },
        "id": "sVzmIY5JjQGN",
        "outputId": "6c143e5e-3ad2-403d-d91b-e45e759b265d"
      },
      "execution_count": null,
      "outputs": [
        {
          "output_type": "stream",
          "name": "stdout",
          "text": [
            "True\n"
          ]
        }
      ]
    },
    {
      "cell_type": "code",
      "source": [
        "s1 = 'The dog is a dog'\n",
        "s2 = 'The dog is there'\n",
        "s3 = 'The dog is sitting on another dog looking at another dog'"
      ],
      "metadata": {
        "id": "3RNYxfQZlav3"
      },
      "execution_count": null,
      "outputs": []
    },
    {
      "cell_type": "code",
      "source": [
        "def count_dog(string):\n",
        "  return string.lower().count('dog');\n",
        "\n",
        "print(count_dog(s1));\n",
        "print(count_dog(s2));\n",
        "print(count_dog(s3));"
      ],
      "metadata": {
        "colab": {
          "base_uri": "https://localhost:8080/"
        },
        "id": "OWN_ngXRl0SZ",
        "outputId": "0862ee05-cea3-4f4b-a8c1-3ae27636d426"
      },
      "execution_count": null,
      "outputs": [
        {
          "output_type": "stream",
          "name": "stdout",
          "text": [
            "2\n",
            "1\n",
            "3\n"
          ]
        }
      ]
    },
    {
      "cell_type": "code",
      "source": [
        "seq = ['soup','dog','salad','cat','great']"
      ],
      "metadata": {
        "id": "z1hyYvvVnRd6"
      },
      "execution_count": null,
      "outputs": []
    },
    {
      "cell_type": "code",
      "source": [
        "print(list(filter(lambda letra: letra[0].lower() in 's', seq)))"
      ],
      "metadata": {
        "colab": {
          "base_uri": "https://localhost:8080/"
        },
        "id": "sCgdcHoAnYPR",
        "outputId": "e9b395c2-4777-43bb-a8c5-43fee55be90d"
      },
      "execution_count": null,
      "outputs": [
        {
          "output_type": "stream",
          "name": "stdout",
          "text": [
            "['soup', 'salad']\n"
          ]
        }
      ]
    },
    {
      "cell_type": "code",
      "source": [
        "def policial(velocidade, aniversario):\n",
        "  if aniversario == True:\n",
        "    velocidade -= 5;\n",
        "  if velocidade <= 60:\n",
        "    return \"No Ticket\"\n",
        "  elif velocidade <= 80:\n",
        "    return \"Small Ticket\"\n",
        "  else:\n",
        "    return \"Big Ticket\"\n",
        "\n",
        "print(policial(85, False))"
      ],
      "metadata": {
        "colab": {
          "base_uri": "https://localhost:8080/"
        },
        "id": "U_H8xuaHo-ie",
        "outputId": "ece8c840-bc3d-44ac-caee-951cadad8f9f"
      },
      "execution_count": null,
      "outputs": [
        {
          "output_type": "stream",
          "name": "stdout",
          "text": [
            "Big Ticket\n"
          ]
        }
      ]
    }
  ]
}